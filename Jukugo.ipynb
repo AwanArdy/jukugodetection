{
 "cells": [
  {
   "cell_type": "markdown",
   "metadata": {},
   "source": [
    "### **Import Library**"
   ]
  },
  {
   "cell_type": "code",
   "execution_count": 1,
   "metadata": {},
   "outputs": [
    {
     "name": "stderr",
     "output_type": "stream",
     "text": [
      "2024-06-26 15:17:10.247689: I external/local_tsl/tsl/cuda/cudart_stub.cc:32] Could not find cuda drivers on your machine, GPU will not be used.\n",
      "2024-06-26 15:17:10.584138: I external/local_tsl/tsl/cuda/cudart_stub.cc:32] Could not find cuda drivers on your machine, GPU will not be used.\n",
      "2024-06-26 15:17:11.907270: I tensorflow/core/platform/cpu_feature_guard.cc:210] This TensorFlow binary is optimized to use available CPU instructions in performance-critical operations.\n",
      "To enable the following instructions: AVX2 FMA, in other operations, rebuild TensorFlow with the appropriate compiler flags.\n",
      "2024-06-26 15:17:15.624589: W tensorflow/compiler/tf2tensorrt/utils/py_utils.cc:38] TF-TRT Warning: Could not find TensorRT\n"
     ]
    }
   ],
   "source": [
    "import xml.etree.ElementTree as ET\n",
    "import numpy as np\n",
    "import tensorflow as tf\n",
    "from tensorflow.keras.preprocessing.text import Tokenizer\n",
    "from tensorflow.keras.preprocessing.sequence import pad_sequences\n",
    "from tensorflow.keras.models import Model\n",
    "from tensorflow.keras.layers import Input, LSTM, Dense, Embedding\n",
    "import matplotlib.pyplot as plt"
   ]
  },
  {
   "cell_type": "markdown",
   "metadata": {},
   "source": [
    "### **Parsing XML Data**"
   ]
  },
  {
   "cell_type": "code",
   "execution_count": 2,
   "metadata": {},
   "outputs": [
    {
     "name": "stdout",
     "output_type": "stream",
     "text": [
      "Jumlah data yang berhasil diparsing: 52791\n"
     ]
    }
   ],
   "source": [
    "def parse_xml(file_path):\n",
    "    tree = ET.parse(file_path)\n",
    "    root = tree.getroot()\n",
    "\n",
    "    kanji_data = []\n",
    "    for child in root:\n",
    "        data = {\n",
    "            'id': int(child.find('id').text),\n",
    "            'Comp_Word': child.find('Comp__Word').text,\n",
    "            'Frequency': int(child.find('Frequency').text),\n",
    "            'Grammatical_Feature': child.find('Grammatical_Feature').text,\n",
    "            'Pronunciation': child.find('Pronunciation').text,\n",
    "            'English_Translation': child.find('English_Translation').text,\n",
    "            'Position': child.find('Position').text,\n",
    "            'Kanji': child.find('Kanji').text,\n",
    "            'KanjiID': int(child.find('KanjiID').text),\n",
    "        }\n",
    "        kanji_data.append(data)\n",
    "    return kanji_data\n",
    "\n",
    "file_path = 'Jukugo.xml'\n",
    "data = parse_xml(file_path)\n",
    "\n",
    "print(f\"Jumlah data yang berhasil diparsing: {len(data)}\")"
   ]
  },
  {
   "cell_type": "markdown",
   "metadata": {},
   "source": [
    "### **Menghapus data dengan value None**"
   ]
  },
  {
   "cell_type": "code",
   "execution_count": 3,
   "metadata": {},
   "outputs": [],
   "source": [
    "kanji_data = [d for d in data if d['Comp_Word'] is not None and d['English_Translation'] is not None]\n",
    "\n",
    "kanji_words = [d['Comp_Word'] for d in kanji_data]\n",
    "english_translations = [d['English_Translation'] for d in kanji_data]"
   ]
  },
  {
   "cell_type": "markdown",
   "metadata": {},
   "source": [
    "### **Tokenization**"
   ]
  },
  {
   "cell_type": "code",
   "execution_count": 4,
   "metadata": {},
   "outputs": [],
   "source": [
    "tokenizer_kanji = Tokenizer(char_level=True)\n",
    "tokenizer_kanji.fit_on_texts(kanji_words)\n",
    "kanji_sequences = tokenizer_kanji.texts_to_sequences(kanji_words)\n",
    "kanji_padded = pad_sequences(kanji_sequences, padding='post')\n",
    "\n",
    "tokenizer_eng = Tokenizer()\n",
    "tokenizer_eng.fit_on_texts(english_translations)\n",
    "eng_sequence = tokenizer_eng.texts_to_sequences(english_translations)\n",
    "eng_padded = pad_sequences(eng_sequence, padding='post')"
   ]
  },
  {
   "cell_type": "markdown",
   "metadata": {},
   "source": [
    "### **Membuat Model**"
   ]
  },
  {
   "cell_type": "code",
   "execution_count": 5,
   "metadata": {},
   "outputs": [],
   "source": [
    "embedding_dim = 256\n",
    "units = 512\n",
    "\n",
    "kanji_input = Input(shape=(None,), dtype='int32', name='kanji_input')\n",
    "embedding = Embedding(input_dim=len(tokenizer_kanji.word_index) + 1, output_dim=embedding_dim)(kanji_input)\n",
    "lstm_1 = LSTM(units, return_sequences=True, return_state=True)\n",
    "encoder_ouputs, state_h, state_c = lstm_1(embedding)\n",
    "encoder_states = [state_h, state_c]\n",
    "\n",
    "eng_input = Input(shape=(None,), dtype='int32', name='eng_input')\n",
    "eng_embedding = Embedding(input_dim=len(tokenizer_eng.word_index) + 1, output_dim=embedding_dim)(eng_input)\n",
    "lstm_2 = LSTM(units, return_sequences=True, return_state=True)\n",
    "decoder_ouputs, _, _ = lstm_2(eng_embedding, initial_state=encoder_states)\n",
    "dense = Dense(len(tokenizer_eng.word_index) + 1, activation='softmax')\n",
    "output = dense(decoder_ouputs)\n",
    "\n",
    "model = Model([kanji_input, eng_input], output)\n",
    "model.compile(optimizer='adam', loss='sparse_categorical_crossentropy')"
   ]
  },
  {
   "cell_type": "markdown",
   "metadata": {},
   "source": [
    "### **Melatih Model**"
   ]
  },
  {
   "cell_type": "code",
   "execution_count": 6,
   "metadata": {},
   "outputs": [
    {
     "name": "stdout",
     "output_type": "stream",
     "text": [
      "Epoch 1/100\n"
     ]
    },
    {
     "name": "stderr",
     "output_type": "stream",
     "text": [
      "2024-06-26 15:17:28.964234: W external/local_tsl/tsl/framework/cpu_allocator_impl.cc:83] Allocation of 1480589312 exceeds 10% of free system memory.\n"
     ]
    },
    {
     "name": "stdout",
     "output_type": "stream",
     "text": [
      "\u001b[1m  1/660\u001b[0m \u001b[37m━━━━━━━━━━━━━━━━━━━━\u001b[0m \u001b[1m1:36:29\u001b[0m 9s/step - loss: 9.3295"
     ]
    },
    {
     "name": "stderr",
     "output_type": "stream",
     "text": [
      "2024-06-26 15:17:33.691905: W external/local_tsl/tsl/framework/cpu_allocator_impl.cc:83] Allocation of 1480589312 exceeds 10% of free system memory.\n"
     ]
    },
    {
     "name": "stdout",
     "output_type": "stream",
     "text": [
      "\u001b[1m  2/660\u001b[0m \u001b[37m━━━━━━━━━━━━━━━━━━━━\u001b[0m \u001b[1m42:48\u001b[0m 4s/step - loss: 9.2951  "
     ]
    },
    {
     "name": "stderr",
     "output_type": "stream",
     "text": [
      "2024-06-26 15:17:37.534484: W external/local_tsl/tsl/framework/cpu_allocator_impl.cc:83] Allocation of 1480589312 exceeds 10% of free system memory.\n"
     ]
    },
    {
     "name": "stdout",
     "output_type": "stream",
     "text": [
      "\u001b[1m  3/660\u001b[0m \u001b[37m━━━━━━━━━━━━━━━━━━━━\u001b[0m \u001b[1m41:49\u001b[0m 4s/step - loss: 9.2366"
     ]
    },
    {
     "name": "stderr",
     "output_type": "stream",
     "text": [
      "2024-06-26 15:17:41.303424: W external/local_tsl/tsl/framework/cpu_allocator_impl.cc:83] Allocation of 1480589312 exceeds 10% of free system memory.\n"
     ]
    },
    {
     "name": "stdout",
     "output_type": "stream",
     "text": [
      "\u001b[1m  4/660\u001b[0m \u001b[37m━━━━━━━━━━━━━━━━━━━━\u001b[0m \u001b[1m41:24\u001b[0m 4s/step - loss: 9.1287"
     ]
    },
    {
     "name": "stderr",
     "output_type": "stream",
     "text": [
      "2024-06-26 15:17:45.014037: W external/local_tsl/tsl/framework/cpu_allocator_impl.cc:83] Allocation of 1480589312 exceeds 10% of free system memory.\n"
     ]
    },
    {
     "name": "stdout",
     "output_type": "stream",
     "text": [
      "\u001b[1m350/660\u001b[0m \u001b[32m━━━━━━━━━━\u001b[0m\u001b[37m━━━━━━━━━━\u001b[0m \u001b[1m19:01\u001b[0m 4s/step - loss: 1.3509"
     ]
    }
   ],
   "source": [
    "target_data = np.expand_dims(eng_padded, -1)\n",
    "model.fit([kanji_padded, eng_padded], target_data, batch_size=64, epochs=100, validation_split=0.2)"
   ]
  },
  {
   "cell_type": "markdown",
   "metadata": {},
   "source": [
    "### **Evaluasi Model**"
   ]
  },
  {
   "cell_type": "code",
   "execution_count": null,
   "metadata": {},
   "outputs": [],
   "source": [
    "plt.plot(history.history['loss'])\n",
    "plt.plot(history.history['val_loss'])\n",
    "plt.title('Model Loss')\n",
    "plt.xlabel('Epoch')\n",
    "plt.ylabel('Loss')\n",
    "plt.legend(['Train', 'Validation'], loc='upper left')\n",
    "plt.show()"
   ]
  }
 ],
 "metadata": {
  "kernelspec": {
   "display_name": ".venv",
   "language": "python",
   "name": "python3"
  },
  "language_info": {
   "codemirror_mode": {
    "name": "ipython",
    "version": 3
   },
   "file_extension": ".py",
   "mimetype": "text/x-python",
   "name": "python",
   "nbconvert_exporter": "python",
   "pygments_lexer": "ipython3",
   "version": "3.11.8"
  }
 },
 "nbformat": 4,
 "nbformat_minor": 2
}
